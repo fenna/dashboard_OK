{
 "cells": [
  {
   "cell_type": "markdown",
   "metadata": {},
   "source": [
    "# Wist u dat van die subsidies"
   ]
  },
  {
   "cell_type": "code",
   "execution_count": 1,
   "metadata": {},
   "outputs": [],
   "source": [
    "#imports\n",
    "import pandas as pd\n",
    "import numpy as np\n",
    "import matplotlib.pyplot as plt"
   ]
  },
  {
   "cell_type": "code",
   "execution_count": 2,
   "metadata": {},
   "outputs": [],
   "source": [
    "#laad het bestand\n",
    "def read_file(f):\n",
    "    \"\"\"functie om de file te lezen en in dataframe te zetten\"\"\"\n",
    "    df = pd.read_csv(f, delimiter = ';')\n",
    "    return df\n",
    "\n",
    "######################################\n",
    "# vul hier de naam van het bestand in\n",
    "f = 'data/subsidiescleanC.csv'\n",
    "######################################\n",
    "\n",
    "df = read_file(f)\n"
   ]
  },
  {
   "cell_type": "code",
   "execution_count": 3,
   "metadata": {},
   "outputs": [],
   "source": [
    "######################################\n",
    "# het stukje tussen df.<kolomnaam>.value_counts() is de kolomnaam\n",
    "# lees de aantallen per antwoord uit\n",
    "######################################\n",
    "\n",
    "results = df.subsidies19h.value_counts()"
   ]
  },
  {
   "cell_type": "code",
   "execution_count": 4,
   "metadata": {},
   "outputs": [],
   "source": [
    "# dit zijn de categorie namen voor het plaatje met kleuren\n",
    "CATEGORY_NEW =   { 0: '',          #rood\n",
    "                   1: '% nee',     #rood\n",
    "                   2: '',          #oranje\n",
    "                   3: '',          #blauw\n",
    "                   4: '',          #grijs            \n",
    "                   5: '% ja',      #lichtgroen\n",
    "                   6: ''}          #donkergroen"
   ]
  },
  {
   "cell_type": "code",
   "execution_count": 5,
   "metadata": {},
   "outputs": [],
   "source": [
    "######################################\n",
    "# vullen van array y, houdt de nummers aan die hierboven staan\n",
    "######################################\n",
    "y = np.array([0,0,0,0,0,0,0])\n",
    "y[1] = results['nee']\n",
    "y[5] = results['ja']\n",
    "y_perc = np.array([i/y.sum()*100 for i in y])"
   ]
  },
  {
   "cell_type": "code",
   "execution_count": 6,
   "metadata": {},
   "outputs": [],
   "source": [
    "# hier niets aan veranderen\n",
    "def survey(results, category_names):\n",
    "    \"\"\"\n",
    "    This funtion creates the graph. It uses the following parameters:\n",
    "    ----------\n",
    "    results : dict\n",
    "        A mapping from question labels to a list of answers per category.\n",
    "        It is assumed all lists contain the same number of entries and that\n",
    "        it matches the length of *category_names*.\n",
    "    category_names : list of str\n",
    "        The category labels.\n",
    "    \"\"\"\n",
    "\n",
    "    labels = list(results.keys())\n",
    "    data = np.array(list(results.values()))\n",
    "    data_cum = data.cumsum(axis=1)\n",
    "    category_colors = plt.get_cmap('RdYlGn')(np.linspace(0.00,0.95, data.shape[1]))\n",
    "\n",
    "    fig, ax = plt.subplots(figsize=(10, 1))\n",
    "    #ax.invert_yaxis()\n",
    "    ax.xaxis.set_visible(False)\n",
    "    ax.yaxis.set_visible(False)\n",
    "    ax.set_xlim(0, np.sum(data, axis=1).max())\n",
    "    # remove all the ticks (both axes), and tick labels on the Y axis\n",
    "    ax.tick_params(top='off', bottom='off', left='off', right='off', labelleft='off', labelbottom='on')\n",
    "\n",
    "    # remove the frame of the chart\n",
    "    for spine in plt.gca().spines.values():\n",
    "        spine.set_visible(False)\n",
    "\n",
    "\n",
    "    for i, (colname, color) in enumerate(zip(category_names, category_colors)):\n",
    "        widths = data[:, i]\n",
    "        starts = data_cum[:, i] - widths\n",
    "      \n",
    "        if i ==  2:  # 'neutraal'\n",
    "            ax.barh(labels, widths, left=starts, height=0.5,\n",
    "                    label=colname, color='lightblue')\n",
    "            xcenters = starts + widths / 2\n",
    "        elif i ==  3:  # display bars with 'weet niet'\n",
    "            ax.barh(labels, widths, left=starts, height=0.5,\n",
    "                    label=colname, color='lightgrey')\n",
    "            xcenters = starts + widths / 2\n",
    "        else:\n",
    "            ax.barh(labels, widths, left=starts, height=0.5,\n",
    "                    label=colname, color=color) # color is red to green\n",
    "            xcenters = starts + widths / 2\n",
    "\n",
    "        #tekst color\n",
    "        r, g, b, _ = color\n",
    "        text_color = 'white' if r * g * b < 0.5 else 'darkgrey'\n",
    "        for y, (x, c) in enumerate(zip(xcenters, widths)):\n",
    "            if c != 0:\n",
    "                ax.text(x, y, str(int(round(c))), ha='center', va='center',color=text_color)\n",
    "\n",
    "    ax.legend(ncol=len(category_names), bbox_to_anchor=(-0.006, 1),loc='lower left', fontsize='small')\n",
    "    return fig, ax\n"
   ]
  },
  {
   "cell_type": "code",
   "execution_count": 7,
   "metadata": {},
   "outputs": [
    {
     "data": {
      "image/png": "[encoded data removed]",
      "text/plain": [
       "<Figure size 720x72 with 1 Axes>"
      ]
     },
     "metadata": {
      "needs_background": "light"
     },
     "output_type": "display_data"
    }
   ],
   "source": [
    "# hier wordt het plaatje gemaakt\n",
    "results = {i : y_perc[1:] for i in range(0, 1)}\n",
    "category_names = [CATEGORY_NEW[i] for i in CATEGORY_NEW][1:]\n",
    "fig, ax = survey(results, category_names)\n",
    "plt.tight_layout()\n",
    "plt.savefig(f[:-4])\n"
   ]
  }
 ],
 "metadata": {
  "kernelspec": {
   "display_name": "Python 3",
   "language": "python",
   "name": "python3"
  },
  "language_info": {
   "codemirror_mode": {
    "name": "ipython",
    "version": 3
   },
   "file_extension": ".py",
   "mimetype": "text/x-python",
   "name": "python",
   "nbconvert_exporter": "python",
   "pygments_lexer": "ipython3",
   "version": "3.8.1"
  }
 },
 "nbformat": 4,
 "nbformat_minor": 4
}
